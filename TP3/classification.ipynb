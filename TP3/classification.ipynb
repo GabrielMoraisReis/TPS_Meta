{
 "cells": [
  {
   "cell_type": "code",
   "execution_count": 13,
   "metadata": {},
   "outputs": [],
   "source": [
    "import numpy as np\n",
    "import pandas as pd\n",
    "import random\n",
    "import matplotlib.pyplot\n",
    "import seaborn as sns\n",
    "from sklearn.model_selection import train_test_split\n",
    "from sklearn import tree\n",
    "from sklearn.metrics import accuracy_score\n",
    "from sklearn.preprocessing import LabelEncoder\n",
    "from copy import deepcopy"
   ]
  },
  {
   "cell_type": "code",
   "execution_count": 14,
   "metadata": {},
   "outputs": [],
   "source": [
    "tabela = pd.read_csv(\"telecom_users.csv\")"
   ]
  },
  {
   "cell_type": "code",
   "execution_count": 15,
   "metadata": {},
   "outputs": [],
   "source": [
    "def initilization_of_population(size,n_feat):\n",
    "    population = []\n",
    "    for i in range(size):\n",
    "        rand = round(random.uniform(0.1, 0.9),1) #número aleatorio com uma casa decimal entre 0 e 0.9\n",
    "        chromosome = np.ones(n_feat,dtype=bool)\n",
    "        chromosome[:int(rand*n_feat)]=False #primeiros rand % elementos são convertidos para false, por exemplo, se rand = 0.3, 30% das colunas não estarão presentes para o individuo\n",
    "        np.random.shuffle(chromosome)\n",
    "        population.append(chromosome)\n",
    "    return population"
   ]
  },
  {
   "cell_type": "code",
   "execution_count": 16,
   "metadata": {},
   "outputs": [],
   "source": [
    "def fitness_score(population,clf):\n",
    "    scores = []\n",
    "    for chromosome in population:\n",
    "        clf.fit(X_train.iloc[:,chromosome],y_train)\n",
    "        predictions = clf.predict(X_test.iloc[:,chromosome])\n",
    "        scores.append(accuracy_score(y_test,predictions))\n",
    "    scores, population = np.array(scores), np.array(population) \n",
    "    #inds = np.argsort(scores)\n",
    "    return list(scores), list(population)"
   ]
  },
  {
   "cell_type": "code",
   "execution_count": 17,
   "metadata": {},
   "outputs": [],
   "source": [
    "def tournmentSelection(popu, score, n_parents):\n",
    "    new_pop = []\n",
    "    for i in range(n_parents):\n",
    "        x1 = score[random.randint(0,len(score)-1)]\n",
    "        x2 = score[random.randint(0,len(score)-1)]\n",
    "        if x1 == x2:\n",
    "            one_or_two = random.randint(0,1)\n",
    "            if one_or_two == 0:\n",
    "                winner = x1\n",
    "            else:\n",
    "                winner = x2\n",
    "        elif x1 > x2:\n",
    "            #print(score.index(x1))\n",
    "            winner = score.index(x1)\n",
    "\n",
    "        else:\n",
    "            #print(score.index(x1))\n",
    "            winner = score.index(x2)\n",
    "        new_pop.append(deepcopy(popu[int(winner)]))\n",
    "    return(new_pop)"
   ]
  },
  {
   "cell_type": "code",
   "execution_count": 18,
   "metadata": {},
   "outputs": [],
   "source": [
    "def crossover(pop_after_sel, n_feat):\n",
    "    population_nextgen = []\n",
    "    child = []\n",
    "    flat_child = []\n",
    "    for i in range(len(pop_after_sel)):\n",
    "        dadIndex = random.randint(0,len(pop_after_sel)-1)\n",
    "        momIndex = random.randint(0,len(pop_after_sel)-1)\n",
    "        while(dadIndex == momIndex):\n",
    "            dadIndex = random.randint(0,len(pop_after_sel)-1)\n",
    "            momIndex = random.randint(0,len(pop_after_sel)-1)\n",
    "        dad = pop_after_sel[dadIndex]\n",
    "        mom = pop_after_sel[momIndex]\n",
    "        child.clear()\n",
    "        flat_child.clear()\n",
    "        qtdCortes = random.randint(1,n_feat-1) #gera o número de cortes que serão usados \n",
    "        indexCortes = np.random.choice(np.arange(1, n_feat), replace=False, size=qtdCortes) #gera um vetor de qtdCortes posições contendo os indices que serão utilizados para os corte\n",
    "        indexCortes = np.sort(indexCortes) #organiza o vetor de indices do menor para o maior\n",
    "        for j in range(len(indexCortes)):\n",
    "            #se o indice do corte for par, tirar os genes do pai. A retirada dos genes funciona da seguinte forma: suponha que o filho no momento tenha 0 genes, \n",
    "            #os genes retirados do pai serão os genes da posição 0 até a posição informada pelo vetor de indices de corte na posição j\n",
    "            # Agora, suponha que o filho já possu 5 genes, os genes retirados do pai serão aqueles da posição 5 do pai até a posição informada pelo vetor de indices de corte na posição j\n",
    "            #print(\"Cromossomo 1\",flat_child )\n",
    "            #print(\"Vec acces\", len(flat_child), indexCortes[j])\n",
    "            if j%2 ==0: \n",
    "                child.append(dad[len(flat_child):indexCortes[j]])\n",
    "                #print(\"Pai\", dad)\n",
    "            else:\n",
    "                child.append(mom[len(flat_child):indexCortes[j]])\n",
    "                #print(\"Mae\", mom)\n",
    "            flat_child = [item for sublist in child for item in sublist]\n",
    "            #print(\"Cromossomo 2\",flat_child )\n",
    "        if j%2 ==0: \n",
    "            child.append(dad[len(flat_child):n_feat])\n",
    "            #print(\"Pai\", dad)\n",
    "        else:\n",
    "            child.append(mom[len(flat_child):n_feat])\n",
    "            #print(\"Mae\", mom)\n",
    "        flat_child = [item for sublist in child for item in sublist]\n",
    "        #print(\"Flatzada\", flat_child)\n",
    "        if (1 not in flat_child):\n",
    "            flat_child[random.randint(0, n_feat-1)] =True\n",
    "        #child[3:7]=pop_after_sel[(i+1)%len(pop_after_sel)][3:7]\n",
    "        population_nextgen.append(deepcopy(flat_child))\n",
    "        second_child = list((not gene for gene in flat_child))\n",
    "        if (1 not in second_child):\n",
    "            second_child[random.randint(0, n_feat-1)] =True\n",
    "        population_nextgen.append(deepcopy(second_child))\n",
    "    return population_nextgen"
   ]
  },
  {
   "cell_type": "code",
   "execution_count": 19,
   "metadata": {},
   "outputs": [],
   "source": [
    "def mutation(pop_after_cross,mutation_rate):\n",
    "    population_nextgen = []\n",
    "    for i in range(0,len(pop_after_cross)):\n",
    "        chromosome = pop_after_cross[i]\n",
    "        for j in range(len(chromosome)):\n",
    "            if random.random() < mutation_rate:\n",
    "                chromosome[j]= not chromosome[j]\n",
    "        population_nextgen.append(chromosome)\n",
    "    #print(population_nextgen)\n",
    "    return population_nextgen"
   ]
  },
  {
   "cell_type": "code",
   "execution_count": 20,
   "metadata": {},
   "outputs": [],
   "source": [
    "colunas = [\"Genero\", \"Aposentado\", \"Casado\", \"Dependentes\", \"ServicoTelefone\", \"FaturaDigital\", \"ValorMensal\", \"TotalGasto\"]\n",
    "X_train, X_test, y_train, y_test = train_test_split(\n",
    "    tabela.drop([\"Churn\", \"IDCliente\"], axis=1),\n",
    "    tabela[\"Churn\"],\n",
    "    test_size=0.2, random_state=0\n",
    ")\n",
    "clf = tree.DecisionTreeClassifier()"
   ]
  },
  {
   "cell_type": "code",
   "execution_count": 21,
   "metadata": {},
   "outputs": [],
   "source": [
    "size=100\n",
    "n_feat=19\n",
    "n_parents=50\n",
    "mutation_rate=0.10\n",
    "n_gen=50"
   ]
  },
  {
   "cell_type": "code",
   "execution_count": 22,
   "metadata": {},
   "outputs": [],
   "source": [
    "best_chromo= []\n",
    "best_score= []\n",
    "population_nextgen=initilization_of_population(size,n_feat)\n",
    "plot = pd.DataFrame(columns=[\"Geracao\", \"Acuracia\"])\n",
    "for i in range(n_gen):\n",
    "    scores, pop_after_fit = fitness_score(population_nextgen, clf)\n",
    "    #print(scores[:2])\n",
    "    pop_after_sel = tournmentSelection(pop_after_fit,scores,n_parents)\n",
    "    pop_after_cross = crossover(pop_after_sel, n_feat)\n",
    "    #pop_after_cross = discrete_crossing(pop_after_sel, n_feat, scores)\n",
    "    population_nextgen = mutation(pop_after_cross,mutation_rate)\n",
    "    #print(population_nextgen)\n",
    "    best_chromo.append(pop_after_fit[np.argmax(scores)])\n",
    "    best_score.append(np.max(scores))\n",
    "    plot =plot.append([{\"Geracao\": i, \"Acuracia\": np.max(scores)}], ignore_index=True)"
   ]
  },
  {
   "cell_type": "code",
   "execution_count": 23,
   "metadata": {},
   "outputs": [
    {
     "name": "stdout",
     "output_type": "stream",
     "text": [
      "Accuracy score after genetic algorithm is= 0.7799163179916317\n"
     ]
    },
    {
     "data": {
      "text/plain": [
       "<AxesSubplot:xlabel='Geracao', ylabel='Acuracia'>"
      ]
     },
     "execution_count": 23,
     "metadata": {},
     "output_type": "execute_result"
    },
    {
     "data": {
      "image/png": "[encoded data removed]",
      "text/plain": [
       "<Figure size 432x288 with 1 Axes>"
      ]
     },
     "metadata": {
      "needs_background": "light"
     },
     "output_type": "display_data"
    }
   ],
   "source": [
    "clf.fit(X_train.iloc[:,best_chromo[-1]],y_train)\n",
    "predictions = clf.predict(X_test.iloc[:,best_chromo[-1]])\n",
    "print(\"Accuracy score after genetic algorithm is= \"+str(accuracy_score(y_test,predictions)))\n",
    "sns.lineplot(data=plot, x=\"Geracao\", y=\"Acuracia\",  marker=\"o\")"
   ]
  },
  {
   "cell_type": "code",
   "execution_count": 24,
   "metadata": {},
   "outputs": [],
   "source": [
    "# def discrete_crossing(pop_after_sel, n_feat, scores):\n",
    "#     population_nextgen=[]\n",
    "#     cromossomo = []\n",
    "#     # ao inves do range ser o tamanho da pop_after_sel, mudar para o tamanho desejado da população e pegar 2 pais aleatórios \n",
    "#     #a cada rodada igual tem na seleção\n",
    "#     for i in range(len(pop_after_sel)):\n",
    "#         dadIndex = random.randint(0,len(pop_after_sel)-1)\n",
    "#         momIndex = random.randint(0,len(pop_after_sel)-1)\n",
    "#         while(dadIndex == momIndex):\n",
    "#             dadIndex = random.randint(0,len(pop_after_sel)-1)\n",
    "#             momIndex = random.randint(0,len(pop_after_sel)-1)\n",
    "#         dad = pop_after_sel[dadIndex]\n",
    "#         mom = pop_after_sel[momIndex]\n",
    "#         dadScore = scores[dadIndex]\n",
    "#         momScore = scores[momIndex]\n",
    "#         if dadScore > momScore:\n",
    "#             best = dad\n",
    "#             worst = mom\n",
    "#         else:\n",
    "#             best = mom\n",
    "#             worst = dad\n",
    "#         proba = 0.5\n",
    "#         cromossomo.clear()\n",
    "#         for k in range(n_feat):\n",
    "#             p = random.uniform(0, 1) # 0 pai; 1 mãe\n",
    "#             if p <= proba:\n",
    "#                 cromossomo.append(worst[k])\n",
    "#                 proba += 0.1\n",
    "#             elif p > proba:\n",
    "#                 cromossomo.append(best[k])\n",
    "#                 proba -= 0.1\n",
    "#         if (1 not in cromossomo):\n",
    "#             cromossomo[random.randint(0, n_feat-1)] == True # trata o caso de gerar um filho com todas as colunas = False, pois isso impossibilitaria o treinamento       \n",
    "#         population_nextgen.append(cromossomo)\n",
    "#         population_nextgen.append(list((not gene for gene in cromossomo)))\n",
    "#     return population_nextgen"
   ]
  }
 ],
 "metadata": {
  "interpreter": {
   "hash": "54ccaebadced9a3a65c790a821397dcedae60905347fd68185f7881edd617ae6"
  },
  "kernelspec": {
   "display_name": "Python 3.8.10 64-bit ('AmbienteCDD': venv)",
   "name": "python3"
  },
  "language_info": {
   "codemirror_mode": {
    "name": "ipython",
    "version": 3
   },
   "file_extension": ".py",
   "mimetype": "text/x-python",
   "name": "python",
   "nbconvert_exporter": "python",
   "pygments_lexer": "ipython3",
   "version": "3.8.10"
  },
  "orig_nbformat": 4
 },
 "nbformat": 4,
 "nbformat_minor": 2
}
