{
  "cells": [
    {
      "cell_type": "markdown",
      "metadata": {
        "id": "LGgHfh3FuNG6"
      },
      "source": [
        "#TP3\n",
        "\n",
        "Base de dados de uma empresa de Telecom que oferta diversos serviços, entre os principais: internet e telefone.\n",
        "\n",
        "Ao analisar o histórico dos clientes dos últimos anos percebe-se que a empresa está com Churn (taxa de cancelamento) de mais de 26% dos clientes. O trabalho consiste em encontrar uma (ou mais regras) que seja o mais acurada possível para determinar os clientes com churn (os clientes que cancelaram). Deve-se utilizar algoritmos genéticos ou programação genética para encontrar tal regra.\n",
        "\n",
        "Link no Kaggle: https://www.kaggle.com/radmirzosimov/telecom-users-dataset"
      ]
    },
    {
      "cell_type": "code",
      "execution_count": 100,
      "metadata": {
        "colab": {
          "base_uri": "https://localhost:8080/",
          "height": 626
        },
        "id": "zaQTCUd7uNG-",
        "outputId": "30bebfb8-ab80-4040-ed70-07a4c63cb02f"
      },
      "outputs": [],
      "source": [
        "# Passo 1: Importar a base de dados\n",
        "import pandas as pd\n",
        "\n",
        "tabela = pd.read_csv(\"telecom_users.csv\")"
      ]
    },
    {
      "cell_type": "code",
      "execution_count": 101,
      "metadata": {
        "colab": {
          "base_uri": "https://localhost:8080/",
          "height": 609
        },
        "id": "4spOcLz-uNHA",
        "outputId": "4adb39cb-c416-405f-82f9-89327c379366"
      },
      "outputs": [],
      "source": [
        "# Passo 2: Visualizar a base de dados\n",
        "# Entender quais informações estão disponíveis\n",
        "# Retirada da primeira coluna\n",
        "tabela = tabela.drop(\"Unnamed: 0\", axis=1) # 0 é linha e 1 é coluna"
      ]
    },
    {
      "cell_type": "code",
      "execution_count": 102,
      "metadata": {
        "colab": {
          "base_uri": "https://localhost:8080/"
        },
        "id": "SqwAmVpIuNHB",
        "outputId": "8e2f1c96-90be-451f-8bf3-846b8075a1a3"
      },
      "outputs": [
        {
          "name": "stdout",
          "output_type": "stream",
          "text": [
            "<class 'pandas.core.frame.DataFrame'>\n",
            "Int64Index: 5974 entries, 0 to 5985\n",
            "Data columns (total 21 columns):\n",
            " #   Column                  Non-Null Count  Dtype  \n",
            "---  ------                  --------------  -----  \n",
            " 0   IDCliente               5974 non-null   object \n",
            " 1   Genero                  5974 non-null   object \n",
            " 2   Aposentado              5974 non-null   int64  \n",
            " 3   Casado                  5974 non-null   object \n",
            " 4   Dependentes             5974 non-null   object \n",
            " 5   MesesComoCliente        5974 non-null   int64  \n",
            " 6   ServicoTelefone         5974 non-null   object \n",
            " 7   MultiplasLinhas         5974 non-null   object \n",
            " 8   ServicoInternet         5974 non-null   object \n",
            " 9   ServicoSegurancaOnline  5974 non-null   object \n",
            " 10  ServicoBackupOnline     5974 non-null   object \n",
            " 11  ProtecaoEquipamento     5974 non-null   object \n",
            " 12  ServicoSuporteTecnico   5974 non-null   object \n",
            " 13  ServicoStreamingTV      5974 non-null   object \n",
            " 14  ServicoFilmes           5974 non-null   object \n",
            " 15  TipoContrato            5974 non-null   object \n",
            " 16  FaturaDigital           5974 non-null   object \n",
            " 17  FormaPagamento          5974 non-null   object \n",
            " 18  ValorMensal             5974 non-null   float64\n",
            " 19  TotalGasto              5974 non-null   float64\n",
            " 20  Churn                   5974 non-null   object \n",
            "dtypes: float64(2), int64(2), object(17)\n",
            "memory usage: 1.0+ MB\n",
            "None\n"
          ]
        }
      ],
      "source": [
        "# Passo 3: Tratamento da base de dados\n",
        "# Valores que são números mas que o Python acha que são texto\n",
        "tabela[\"TotalGasto\"] = pd.to_numeric(tabela[\"TotalGasto\"], errors=\"coerce\")\n",
        "\n",
        "# Valores que estão vazios\n",
        "# colunas vazias\n",
        "# any para excluir colunas que tem PELO MENOS 1 valor vazio\n",
        "# all para excluir colunas COMPLETAMENTE vazias\n",
        "tabela = tabela.dropna(how=\"all\", axis=1) \n",
        "\n",
        "# linhas vazias\n",
        "tabela = tabela.dropna(how=\"any\", axis=0) \n",
        "\n",
        "# note que a limpeza excluiu 12 registros\n",
        "print(tabela.info())"
      ]
    },
    {
      "cell_type": "code",
      "execution_count": 103,
      "metadata": {
        "colab": {
          "base_uri": "https://localhost:8080/",
          "height": 119
        },
        "id": "Ps0FUdNcuNHB",
        "outputId": "64614690-0b5f-4480-c44b-ddcfb205bb0d"
      },
      "outputs": [
        {
          "data": {
            "text/plain": [
              "Nao    4387\n",
              "Sim    1587\n",
              "Name: Churn, dtype: int64"
            ]
          },
          "metadata": {},
          "output_type": "display_data"
        },
        {
          "data": {
            "text/plain": [
              "Nao    73.4%\n",
              "Sim    26.6%\n",
              "Name: Churn, dtype: object"
            ]
          },
          "metadata": {},
          "output_type": "display_data"
        }
      ],
      "source": [
        "# Passo 4: Análise Exploratória -> Análise Geral -> Ver como estão os cancelamentos\n",
        "\n",
        "display(tabela[\"Churn\"].value_counts())\n",
        "display(tabela[\"Churn\"].value_counts(normalize=True).map(\"{:.1%}\".format))"
      ]
    },
    {
      "cell_type": "markdown",
      "metadata": {},
      "source": [
        "## Encontramos linhas com valor nulo na coluna de dependentes e churn. Célula abaixo irá remove-los"
      ]
    },
    {
      "cell_type": "code",
      "execution_count": 104,
      "metadata": {},
      "outputs": [],
      "source": [
        "tabela = tabela.dropna(subset=[\"Dependentes\"])\n",
        "tabela = tabela.dropna(subset=[\"Churn\"])"
      ]
    },
    {
      "cell_type": "code",
      "execution_count": 105,
      "metadata": {},
      "outputs": [],
      "source": [
        "from sklearn.model_selection import train_test_split\n",
        "from sklearn.metrics import confusion_matrix\n",
        "from sklearn.preprocessing import LabelEncoder"
      ]
    },
    {
      "cell_type": "markdown",
      "metadata": {},
      "source": [
        "## Na célula abaixo, iremos converter todas as colunas que possuem valores binários, do tipo (\"sim\", \"nao\") por exemplo, em valores inteiros 0 ou 1"
      ]
    },
    {
      "cell_type": "code",
      "execution_count": 110,
      "metadata": {},
      "outputs": [],
      "source": [
        "tabela1 = pd.DataFrame()\n",
        "enc = LabelEncoder()\n",
        "to_enc = tabela[\"Genero\"]\n",
        "enc.fit(to_enc)\n",
        "tabela[\"Genero\"] = enc.transform(tabela[\"Genero\"])\n",
        "to_enc = tabela[\"Aposentado\"]\n",
        "enc.fit(to_enc)\n",
        "tabela[\"Aposentado\"] = enc.transform(tabela[\"Aposentado\"])\n",
        "to_enc = tabela[\"Casado\"]\n",
        "enc.fit(to_enc)\n",
        "tabela[\"Casado\"] = enc.transform(tabela[\"Casado\"])\n",
        "to_enc = tabela[\"Dependentes\"]\n",
        "enc.fit(to_enc)\n",
        "tabela[\"Dependentes\"] = enc.transform(tabela[\"Dependentes\"])\n",
        "to_enc = tabela[\"ServicoTelefone\"]\n",
        "enc.fit(to_enc)\n",
        "tabela[\"ServicoTelefone\"] = enc.transform(tabela[\"ServicoTelefone\"])\n",
        "to_enc = tabela[\"FaturaDigital\"]\n",
        "enc.fit(to_enc)\n",
        "tabela[\"FaturaDigital\"] = enc.transform(tabela[\"FaturaDigital\"])\n",
        "\n",
        "to_enc = tabela[\"Churn\"]\n",
        "enc.fit(to_enc)\n",
        "tabela[\"Churn\"] = enc.transform(tabela[\"Churn\"])\n"
      ]
    },
    {
      "cell_type": "markdown",
      "metadata": {},
      "source": [
        "## Aqui separamos em conjunto de treino e de teste"
      ]
    },
    {
      "cell_type": "code",
      "execution_count": 116,
      "metadata": {},
      "outputs": [],
      "source": [
        "X_train, X_test, Y_train, Y_test = train_test_split(\n",
        "    tabela.drop(\"Churn\", axis=1),\n",
        "    tabela[\"Churn\"],\n",
        "    test_size=0.2, random_state=0\n",
        ")"
      ]
    },
    {
      "cell_type": "code",
      "execution_count": null,
      "metadata": {},
      "outputs": [],
      "source": []
    }
  ],
  "metadata": {
    "colab": {
      "name": "TP3.ipynb",
      "provenance": []
    },
    "interpreter": {
      "hash": "54ccaebadced9a3a65c790a821397dcedae60905347fd68185f7881edd617ae6"
    },
    "kernelspec": {
      "display_name": "Python 3.8.10 64-bit ('AmbienteCDD': venv)",
      "name": "python3"
    },
    "language_info": {
      "codemirror_mode": {
        "name": "ipython",
        "version": 3
      },
      "file_extension": ".py",
      "mimetype": "text/x-python",
      "name": "python",
      "nbconvert_exporter": "python",
      "pygments_lexer": "ipython3",
      "version": "3.8.10"
    }
  },
  "nbformat": 4,
  "nbformat_minor": 0
}
